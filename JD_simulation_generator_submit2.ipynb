{
 "cells": [
  {
   "cell_type": "code",
   "execution_count": 1,
   "id": "3141112e",
   "metadata": {},
   "outputs": [],
   "source": [
    "import matplotlib.pyplot as plt\n",
    "import numpy as np\n",
    "import random\n",
    "import torch\n",
    "import os\n",
    "import sys\n",
    "sys.path.insert(0, os.path.abspath('../'))\n",
    "from DNN_module import Net\n",
    "\n",
    "# CPU\n",
    "torch.set_default_device(\"cpu\")\n",
    "%run ../NCoinDP_functions.ipynb"
   ]
  },
  {
   "cell_type": "markdown",
   "id": "333f36a0",
   "metadata": {},
   "source": [
    "# Snythetic data for Comparison: MOUJ"
   ]
  },
  {
   "cell_type": "code",
   "execution_count": 6,
   "id": "74fe84b6",
   "metadata": {},
   "outputs": [],
   "source": [
    "from torch.distributions.exponential import Exponential\n",
    "from torch.distributions.gamma import Gamma\n",
    "\n",
    "L = 7500000\n",
    "\n",
    "kappa_range = [0.5, 2]\n",
    "beta_range = [-2, 2]\n",
    "#sigma2_range = [0.1, 2]\n",
    "lamb_param = [50]\n",
    "mu_param = [7, 6]\n",
    "\n",
    "# Training + validation + Test data generating\n",
    "torch.manual_seed(510)\n",
    "kappa_ran    = torch.rand(L) * (kappa_range[1] -  kappa_range[0]) + kappa_range[0]\n",
    "beta_ran    = torch.rand(L) * (beta_range[1] -  beta_range[0]) + beta_range[0]\n",
    "lamb_ran = Exponential(lamb_param[0] * torch.ones(L)).sample()\n",
    "mu_ran = Gamma(mu_param[0] * torch.ones(L), torch.tensor([mu_param[1]])).sample()"
   ]
  },
  {
   "cell_type": "code",
   "execution_count": 7,
   "id": "e4d0e213",
   "metadata": {},
   "outputs": [],
   "source": [
    "# Number of data points\n",
    "n = 500\n",
    "\n",
    "# time inteval\n",
    "delta = 1\n",
    "\n",
    "# Observation time\n",
    "obtime = np.arange(0,n+1)/n * n * delta"
   ]
  },
  {
   "cell_type": "code",
   "execution_count": null,
   "id": "9e7fa355",
   "metadata": {},
   "outputs": [],
   "source": [
    "torch.manual_seed(511)\n",
    "L_ind = 250000\n",
    "iter_num = int(L / L_ind + .001)\n",
    "path = \"Comparison/Comparison_sim/Comparison_sim\"\n",
    "\n",
    "for l in [25]:\n",
    "    torch.manual_seed(511+l)\n",
    "    y0 = torch.ones(L_ind) * 0\n",
    "    kappa = kappa_ran[(L_ind * l): (L_ind * (l+1)) ]\n",
    "    beta = beta_ran[(L_ind * l): (L_ind * (l+1)) ]\n",
    "    lamb = lamb_ran[(L_ind * l): (L_ind * (l+1)) ]\n",
    "    mu = mu_ran[(L_ind * l): (L_ind * (l+1)) ]\n",
    "    \n",
    "    output_ind = torch.stack((kappa, beta, lamb, mu), dim = 1)\n",
    "    \n",
    "    yL = MROUJ_simul_sample(obtime, 1000, y0, kappa, beta, torch.ones(L_ind), lamb, mu)\n",
    "    tmp = [MROUJ_summary(yL), output_ind]\n",
    "    path_tmp = path + str(l) + \".pt\"\n",
    "    torch.save(tmp, path_tmp)\n",
    "    print(\"iter_\", l, \": completed\")"
   ]
  },
  {
   "cell_type": "markdown",
   "id": "5651b9e7",
   "metadata": {},
   "source": [
    "# Synthetic data for Comparison1: MOUJ"
   ]
  },
  {
   "cell_type": "code",
   "execution_count": 3,
   "id": "24e28995",
   "metadata": {},
   "outputs": [],
   "source": [
    "from torch.distributions.exponential import Exponential\n",
    "from torch.distributions.gamma import Gamma\n",
    "\n",
    "L = 7500000\n",
    "\n",
    "kappa_range = [0.5, 2]\n",
    "beta_range = [-2, 2]\n",
    "sigma2_param = [1]\n",
    "lamb_param = [50]\n",
    "mu_param = [7, 6]\n",
    "\n",
    "# Number of data points\n",
    "n = 500\n",
    "\n",
    "# time inteval\n",
    "delta = 1\n",
    "\n",
    "# Observation time\n",
    "obtime = np.arange(0,n+1)/n * n * delta"
   ]
  },
  {
   "cell_type": "code",
   "execution_count": null,
   "id": "77752b05",
   "metadata": {},
   "outputs": [],
   "source": [
    "torch.manual_seed(511)\n",
    "L_ind = 250000\n",
    "iter_num = int(L / L_ind + .001)\n",
    "path = \"../../depot_hyun/hyun/Comparison/Comparison1/Comparison1_sim\"\n",
    "\n",
    "for l in range(iter_num):\n",
    "    torch.manual_seed(511+l)\n",
    "    y0 = torch.ones(L_ind) * 0\n",
    "    kappa = torch.rand(L_ind) * (kappa_range[1] -  kappa_range[0]) + kappa_range[0]\n",
    "    beta = torch.rand(L_ind) * (beta_range[1] -  beta_range[0]) + beta_range[0]\n",
    "    sigma2 = Exponential(sigma2_param[0] * torch.ones(L_ind)).sample()\n",
    "    lamb = Exponential(lamb_param[0] * torch.ones(L_ind)).sample()\n",
    "    mu = Gamma(mu_param[0] * torch.ones(L_ind), torch.tensor([mu_param[1]])).sample()\n",
    "    \n",
    "    output_ind = torch.stack((kappa, beta, sigma2, lamb, mu), dim = 1)\n",
    "    \n",
    "    yL = MROUJ_simul_sample(obtime, 1000, y0, kappa, beta, sigma2**(1/2), lamb, mu)\n",
    "    tmp = [MROUJ_summary2(yL), output_ind]\n",
    "    path_tmp = path + str(l) + \".pt\"\n",
    "    torch.save(tmp, path_tmp)\n",
    "    print(\"iter_\", l, \": completed\")"
   ]
  },
  {
   "cell_type": "markdown",
   "id": "936ed729",
   "metadata": {},
   "source": [
    "# Synthetic Data for Comparison2: MOUJ"
   ]
  },
  {
   "cell_type": "code",
   "execution_count": 2,
   "id": "9252a833",
   "metadata": {},
   "outputs": [],
   "source": [
    "from torch.distributions.exponential import Exponential\n",
    "from torch.distributions.gamma import Gamma\n",
    "\n",
    "L = 7500000\n",
    "\n",
    "kappa_range = [0.5, 2]\n",
    "beta_range = [-2, 2]\n",
    "sigma2_param = [2]\n",
    "lamb_param = [5]\n",
    "mu_param = [1]\n",
    "\n",
    "# Number of data points\n",
    "n = 500\n",
    "\n",
    "# time inteval\n",
    "delta = 1\n",
    "\n",
    "# Observation time\n",
    "obtime = np.arange(0,n+1)/n * n * delta"
   ]
  },
  {
   "cell_type": "code",
   "execution_count": null,
   "id": "5a6f3530",
   "metadata": {},
   "outputs": [
    {
     "name": "stdout",
     "output_type": "stream",
     "text": [
      "iter_ 3 : completed\n",
      "iter_ 6 : completed\n"
     ]
    }
   ],
   "source": [
    "torch.manual_seed(511)\n",
    "L_ind = 250000\n",
    "iter_num = int(L / L_ind + .001)\n",
    "path = \"../../depot_hyun/hyun/Comparison/Comparison2/Comparison2_sim\"\n",
    "\n",
    "for l in [3, 6, 7]:\n",
    "    torch.manual_seed(511+l)\n",
    "    y0 = torch.ones(L_ind) * 0\n",
    "    kappa = torch.rand(L_ind) * (kappa_range[1] -  kappa_range[0]) + kappa_range[0]\n",
    "    beta = torch.rand(L_ind) * (beta_range[1] -  beta_range[0]) + beta_range[0]\n",
    "    sigma2 = Exponential(sigma2_param[0] * torch.ones(L_ind)).sample()\n",
    "    lamb = Exponential(lamb_param[0] * torch.ones(L_ind)).sample()\n",
    "    mu = Exponential(mu_param[0] * torch.ones(L_ind)).sample()\n",
    "    \n",
    "    output_ind = torch.stack((kappa, beta, sigma2, lamb, mu), dim = 1)\n",
    "    \n",
    "    yL = MROUJ_simul_sample(obtime, 1000, y0, kappa, beta, sigma2**(1/2), lamb, mu)\n",
    "    tmp = [MROUJ_summary2(yL), output_ind]\n",
    "    path_tmp = path + str(l) + \".pt\"\n",
    "    torch.save(tmp, path_tmp)\n",
    "    print(\"iter_\", l, \": completed\")"
   ]
  }
 ],
 "metadata": {
  "kernelspec": {
   "display_name": "Python (My sbi_pack Kernel)",
   "language": "python",
   "name": "sbi_pack"
  },
  "language_info": {
   "codemirror_mode": {
    "name": "ipython",
    "version": 3
   },
   "file_extension": ".py",
   "mimetype": "text/x-python",
   "name": "python",
   "nbconvert_exporter": "python",
   "pygments_lexer": "ipython3",
   "version": "3.8.5"
  }
 },
 "nbformat": 4,
 "nbformat_minor": 5
}
