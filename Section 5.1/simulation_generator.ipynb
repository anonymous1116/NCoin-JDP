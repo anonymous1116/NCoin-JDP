{
 "cells": [
  {
   "cell_type": "code",
   "execution_count": 1,
   "id": "7986786e",
   "metadata": {},
   "outputs": [],
   "source": [
    "import matplotlib.pyplot as plt\n",
    "import numpy as np\n",
    "import random\n",
    "import torch\n",
    "import pandas as pd"
   ]
  },
  {
   "cell_type": "markdown",
   "id": "2a256798",
   "metadata": {},
   "source": [
    "# Generating synthetic data for OU"
   ]
  },
  {
   "cell_type": "code",
   "execution_count": 28,
   "id": "8a7fe0a8",
   "metadata": {},
   "outputs": [],
   "source": [
    "%run NCoinDP_functions.ipynb"
   ]
  },
  {
   "cell_type": "code",
   "execution_count": 29,
   "id": "f8a86522",
   "metadata": {},
   "outputs": [],
   "source": [
    "prcs = \"OU\" "
   ]
  },
  {
   "cell_type": "code",
   "execution_count": 30,
   "id": "685d1a2c",
   "metadata": {},
   "outputs": [
    {
     "name": "stdout",
     "output_type": "stream",
     "text": [
      "2.1.2+cu121\n",
      "True\n",
      "NVIDIA A10\n"
     ]
    }
   ],
   "source": [
    "print(torch.__version__)\n",
    "print(torch.cuda.is_available())\n",
    "print(torch.cuda.get_device_name(0))\n",
    "if torch.cuda.is_available(): \n",
    " dev = \"cuda:0\" \n",
    "else: \n",
    " dev = \"cpu\"\n",
    "device = torch.device(dev) "
   ]
  },
  {
   "cell_type": "code",
   "execution_count": null,
   "id": "bdedcc80",
   "metadata": {},
   "outputs": [],
   "source": [
    "# Default : cuda\n",
    "torch.set_default_device('cpu')\n",
    "\n",
    "nums = [500, 1000, 3000]\n",
    "for num in nums:\n",
    "    # Number of data points\n",
    "    n = num\n",
    "\n",
    "    # time inteval\n",
    "    delta = 1/52\n",
    "\n",
    "    # Generating times\n",
    "    obtime = np.arange(0,n+1)/n * n * delta\n",
    "\n",
    "    # Number of synthetic data\n",
    "    L = 1000000\n",
    "    #L = 500000\n",
    "\n",
    "    if prcs == \"OU\":\n",
    "        # Range of parameters\n",
    "        mu_range = [1, 5]\n",
    "        theta_range = [1, 2.5]\n",
    "        sigma2_range = [0.5, 2]\n",
    "\n",
    "        # Training + validation + Test data generating\n",
    "        torch.manual_seed(510)\n",
    "        mu_ran     = torch.rand(L) * (mu_range[1] -  mu_range[0]) + mu_range[0]\n",
    "        theta_ran  = torch.rand(L) * (theta_range[1] -  theta_range[0]) + theta_range[0]\n",
    "        sigma2_ran = torch.rand(L) * (sigma2_range[1] -  sigma2_range[0]) + sigma2_range[0]\n",
    "\n",
    "        # Output: L x 3 matrix\n",
    "        output = torch.stack((mu_ran, theta_ran, sigma2_ran), dim = 1)\n",
    "\n",
    "        # J Synthetic data generating\n",
    "        torch.manual_seed(511)\n",
    "        y0_tmp = torch.normal(theta_ran, torch.sqrt(sigma2_ran/(2*mu_ran)))\n",
    "        yL = OU_simul_sample(L, obtime, y0_tmp, mu_ran, theta_ran, sigma2_ran ** (1/2))\n",
    "\n",
    "        # Summary Statistics\n",
    "        X = OU_summary(yL)\n",
    "        tmp = \"../depot_hyun/hyun/syn_data/OU_sim_n\"+str(num)+\".pt\"\n",
    "    \n",
    "    # Save\n",
    "    torch.save([X, output], tmp)"
   ]
  },
  {
   "cell_type": "markdown",
   "id": "73f158c6",
   "metadata": {},
   "source": [
    "# Generating Test Data Sets for OU"
   ]
  },
  {
   "cell_type": "code",
   "execution_count": null,
   "id": "4f52324f",
   "metadata": {},
   "outputs": [],
   "source": [
    "prcs = \"OU\" \n",
    "\n",
    "if prcs == \"OU\":\n",
    "    S1 = [[1.5, 2, 1], [2.5, 2, 1], [3.5, 2, 1], [4.5, 2, 1]]\n",
    "    S2 = [[3, 1.2, 1], [3, 1.5, 1], [3, 1.8, 1], [3, 2.1, 1]]\n",
    "    S3 = [[3, 2, 0.7], [3, 2, 1.0], [3, 2, 1.3], [3, 2, 1.6]]\n",
    "\n",
    "\n",
    "scenarios = [S1, S2, S3]\n",
    "scenarios_name = [\"S1\", \"S2\", \"S3\"]"
   ]
  },
  {
   "cell_type": "code",
   "execution_count": null,
   "id": "2485157b",
   "metadata": {},
   "outputs": [],
   "source": [
    "import pandas as pd\n",
    "nums = [500, 1000, 3000]\n",
    "\n",
    "# Generate the simulation data to get the mean and standard deviation of estimated parameter\n",
    "sim = 3000\n",
    "# Generating times\n",
    "delta = 1/52\n",
    "\n",
    "for num in nums:\n",
    "    l = 0\n",
    "    for scenario in scenarios:\n",
    "        torch.manual_seed(401)\n",
    "        n = num\n",
    "        obtime = np.arange(0,n+1) * delta\n",
    "        \n",
    "        param1 = scenario[0]\n",
    "        param2 = scenario[1]\n",
    "        param3 = scenario[2]\n",
    "        param4 = scenario[3]\n",
    "\n",
    "        if prcs == \"OU\":\n",
    "            y0_sim1 = torch.normal(torch.ones(sim) * param1[1], torch.ones(sim) * ((param1[2]/ (2* param1[0]) )**(1/2) )) \n",
    "            y0_sim2 = torch.normal(torch.ones(sim) * param2[1], torch.ones(sim) * ((param2[2]/ (2* param2[0]) )**(1/2) )) \n",
    "            y0_sim3 = torch.normal(torch.ones(sim) * param3[1], torch.ones(sim) * ((param3[2]/ (2* param3[0]) )**(1/2) )) \n",
    "            y0_sim4 = torch.normal(torch.ones(sim) * param4[1], torch.ones(sim) * ((param4[2]/ (2* param4[0]) )**(1/2) )) \n",
    "\n",
    "            sim_data1 = OU_simul_sample(sim, obtime, y0_sim1, param1[0] * torch.ones(sim), param1[1] * torch.ones(sim), param1[2] ** (1/2) * torch.ones(sim))\n",
    "            sim_data2 = OU_simul_sample(sim, obtime, y0_sim2, param2[0] * torch.ones(sim), param2[1] * torch.ones(sim), param2[2] ** (1/2) * torch.ones(sim))\n",
    "            sim_data3 = OU_simul_sample(sim, obtime, y0_sim3, param3[0] * torch.ones(sim), param3[1] * torch.ones(sim), param3[2] ** (1/2) * torch.ones(sim))\n",
    "            sim_data4 = OU_simul_sample(sim, obtime, y0_sim4, param4[0] * torch.ones(sim), param4[1] * torch.ones(sim), param4[2] ** (1/2) * torch.ones(sim))\n",
    "\n",
    "            # Save for NCoin and MLE\n",
    "            tmp = \"../depot_hyun/hyun/test_data/OU_test_n\" + str(num) + \"_\"+ scenarios_name[l] + \".pt\"\n",
    "            torch.save([[sim_data1, sim_data2, sim_data3, sim_data4], scenario] , tmp)\n",
    "\n",
    "            # Save for GMM\n",
    "            for j in range(4):\n",
    "                tmp2 = \"../depot_hyun/hyun/test_data/GMM/OU_test_n\" + str(num) + \"_\" + scenarios_name[l] + \"_\" +str(j) + \".txt\"\n",
    "                if j == 0:\n",
    "                    px = pd.DataFrame(sim_data1)\n",
    "                    px.to_csv(tmp2, sep='\\t', index=False)\n",
    "                if j == 1:\n",
    "                    px = pd.DataFrame(sim_data2)\n",
    "                    px.to_csv(tmp2, sep='\\t', index=False)\n",
    "                if j == 2:\n",
    "                    px = pd.DataFrame(sim_data3)\n",
    "                    px.to_csv(tmp2, sep='\\t', index=False)\n",
    "                if j == 3:\n",
    "                    px = pd.DataFrame(sim_data4)\n",
    "                    px.to_csv(tmp2, sep='\\t', index=False)   \n",
    "                    \n",
    "        l += 1"
   ]
  }
 ],
 "metadata": {
  "kernelspec": {
   "display_name": "Python (My sbi_pack Kernel)",
   "language": "python",
   "name": "sbi_pack"
  },
  "language_info": {
   "codemirror_mode": {
    "name": "ipython",
    "version": 3
   },
   "file_extension": ".py",
   "mimetype": "text/x-python",
   "name": "python",
   "nbconvert_exporter": "python",
   "pygments_lexer": "ipython3",
   "version": "3.8.5"
  }
 },
 "nbformat": 4,
 "nbformat_minor": 5
}
