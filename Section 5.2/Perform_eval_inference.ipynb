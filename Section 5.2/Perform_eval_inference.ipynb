{
 "cells": [
  {
   "cell_type": "code",
   "execution_count": 1,
   "id": "3f540f84",
   "metadata": {},
   "outputs": [],
   "source": [
    "import torch\n",
    "import numpy as np\n",
    "import sys\n",
    "import os\n",
    "sys.path.insert(0, os.path.abspath('../'))\n",
    "from DNN_module import Net\n",
    "\n",
    "%run ../NCoinDP_functions.ipynb\n",
    "torch.set_default_device(\"cpu\")"
   ]
  },
  {
   "cell_type": "markdown",
   "id": "2404a8f7",
   "metadata": {},
   "source": [
    "# First Case (P1)"
   ]
  },
  {
   "cell_type": "code",
   "execution_count": 3,
   "id": "eb16120c",
   "metadata": {
    "scrolled": true
   },
   "outputs": [
    {
     "name": "stdout",
     "output_type": "stream",
     "text": [
      "20\n",
      ".05\n",
      "coverage:  0.85 param:  kappa 0.834 mad:  0.011\n",
      "coverage:  0.9 param:  kappa 0.888 mad:  0.01\n",
      "coverage:  0.95 param:  kappa 0.935 mad:  0.005\n",
      "coverage:  0.85 param:  beta 0.845 mad:  0.009\n",
      "coverage:  0.9 param:  beta 0.891 mad:  0.007\n",
      "coverage:  0.95 param:  beta 0.941 mad:  0.005\n",
      "coverage:  0.85 param:  sigma2 0.856 mad:  0.011\n",
      "coverage:  0.9 param:  sigma2 0.904 mad:  0.009\n",
      "coverage:  0.95 param:  sigma2 0.953 mad:  0.006\n"
     ]
    }
   ],
   "source": [
    "import pandas as pd\n",
    "tmp = torch.load(\"uncertainty_05.pt\")\n",
    "print(len(tmp))\n",
    "\n",
    "cvrg_results = np.zeros( (len(tmp),3,3 ))\n",
    "cvrg_results.shape\n",
    "\n",
    "\n",
    "print(\".05\")\n",
    "\n",
    "# Read a CSV file into a DataFrame\n",
    "df = pd.read_csv('MCMC/MC_results.txt', sep=\"\\t\")\n",
    "MC_results = torch.tensor(df.values)\n",
    "\n",
    "param_name = [\"kappa\", \"beta\", \"sigma2\"]\n",
    "coverage = [0.85, 0.90, 0.95]\n",
    "\n",
    "for k in range(len(tmp)):\n",
    "    for i in range(3):\n",
    "        values = tmp[k][1][:,i].detach().cpu().numpy().tolist()\n",
    "        weights = tmp[k][0].numpy()\n",
    "        for j in range(3):\n",
    "            error_cvrg = 1-coverage[j]\n",
    "            interval = [error_cvrg/2, 1 - error_cvrg/2]\n",
    "            intvl = weighted_quantile(values, interval, weights)\n",
    "\n",
    "            cvrg = torch.sum((MC_results[:,i] < intvl[1]) & (intvl[0] < MC_results[:,i]))/MC_results.size()[0]\n",
    "            \n",
    "            cvrg_results[k,i,j] = cvrg.detach().cpu().numpy().tolist()\n",
    "            #print(\"coverage: \", coverage[j], param_name[i], \"inf_m: \", cov_m)\n",
    "            #print(\"coverage: \", coverage[j], param_name[i],\"inf_sd: \", cvrg)\n",
    "for i in range(3):\n",
    "    for j in range(3):\n",
    "        #print(\"coverage: \", coverage[j], \"param: \", param_name[i], round(np.mean(cvrg_results[:,i,j]),3), \"sd: \", round(np.std(cvrg_results[:,i,j]),3))\n",
    "        x = cvrg_results[:,i,j]\n",
    "        print(\"coverage: \", coverage[j], \"param: \", param_name[i], round(np.median(x),3), \"mad: \", round(np.median(np.absolute(x - np.median(x))),3))"
   ]
  },
  {
   "cell_type": "code",
   "execution_count": 4,
   "id": "2c90246b",
   "metadata": {},
   "outputs": [
    {
     "name": "stdout",
     "output_type": "stream",
     "text": [
      "20\n",
      ".07\n",
      "coverage:  0.85 param:  kappa 0.843 mad:  0.01\n",
      "coverage:  0.9 param:  kappa 0.894 mad:  0.008\n",
      "coverage:  0.95 param:  kappa 0.946 mad:  0.007\n",
      "coverage:  0.85 param:  beta 0.85 mad:  0.01\n",
      "coverage:  0.9 param:  beta 0.9 mad:  0.009\n",
      "coverage:  0.95 param:  beta 0.952 mad:  0.005\n",
      "coverage:  0.85 param:  sigma2 0.856 mad:  0.01\n",
      "coverage:  0.9 param:  sigma2 0.907 mad:  0.009\n",
      "coverage:  0.95 param:  sigma2 0.957 mad:  0.004\n"
     ]
    }
   ],
   "source": [
    "import pandas as pd\n",
    "tmp = torch.load(\"uncertainty_07.pt\")\n",
    "print(len(tmp))\n",
    "\n",
    "cvrg_results = np.zeros( (len(tmp),3,3 ))\n",
    "cvrg_results.shape\n",
    "\n",
    "\n",
    "print(\".07\")\n",
    "\n",
    "# Read a CSV file into a DataFrame\n",
    "df = pd.read_csv('MCMC/MC_results.txt', sep=\"\\t\")\n",
    "MC_results = torch.tensor(df.values)\n",
    "\n",
    "param_name = [\"kappa\", \"beta\", \"sigma2\"]\n",
    "coverage = [0.85, 0.90, 0.95]\n",
    "\n",
    "for k in range(len(tmp)):\n",
    "    for i in range(3):\n",
    "        values = tmp[k][1][:,i].detach().cpu().numpy().tolist()\n",
    "        weights = tmp[k][0].numpy()\n",
    "        for j in range(3):\n",
    "            error_cvrg = 1-coverage[j]\n",
    "            interval = [error_cvrg/2, 1 - error_cvrg/2]\n",
    "            intvl = weighted_quantile(values, interval, weights)\n",
    "\n",
    "            cvrg = torch.sum((MC_results[:,i] < intvl[1]) & (intvl[0] < MC_results[:,i]))/MC_results.size()[0]\n",
    "            \n",
    "            cvrg_results[k,i,j] = cvrg.detach().cpu().numpy().tolist()\n",
    "            #print(\"coverage: \", coverage[j], param_name[i], \"inf_m: \", cov_m)\n",
    "            #print(\"coverage: \", coverage[j], param_name[i],\"inf_sd: \", cvrg)\n",
    "for i in range(3):\n",
    "    for j in range(3):\n",
    "        #print(\"coverage: \", coverage[j], \"param: \", param_name[i], round(np.mean(cvrg_results[:,i,j]),3), \"sd: \", round(np.std(cvrg_results[:,i,j]),3))\n",
    "        x = cvrg_results[:,i,j]\n",
    "        print(\"coverage: \", coverage[j], \"param: \", param_name[i], round(np.median(x),3), \"mad: \", round(np.median(np.absolute(x - np.median(x))),3))"
   ]
  },
  {
   "cell_type": "code",
   "execution_count": 5,
   "id": "7ec7251f",
   "metadata": {},
   "outputs": [
    {
     "name": "stdout",
     "output_type": "stream",
     "text": [
      "20\n",
      ".10\n",
      "coverage:  0.85 param:  kappa 0.836 mad:  0.004\n",
      "coverage:  0.9 param:  kappa 0.885 mad:  0.003\n",
      "coverage:  0.95 param:  kappa 0.937 mad:  0.003\n",
      "coverage:  0.85 param:  beta 0.848 mad:  0.007\n",
      "coverage:  0.9 param:  beta 0.896 mad:  0.005\n",
      "coverage:  0.95 param:  beta 0.944 mad:  0.004\n",
      "coverage:  0.85 param:  sigma2 0.85 mad:  0.018\n",
      "coverage:  0.9 param:  sigma2 0.902 mad:  0.014\n",
      "coverage:  0.95 param:  sigma2 0.952 mad:  0.01\n"
     ]
    }
   ],
   "source": [
    "import pandas as pd\n",
    "tmp = torch.load(\"uncertainty_10.pt\")\n",
    "print(len(tmp))\n",
    "\n",
    "cvrg_results = np.zeros( (len(tmp),3,3 ))\n",
    "cvrg_results.shape\n",
    "\n",
    "\n",
    "print(\".10\")\n",
    "\n",
    "# Read a CSV file into a DataFrame\n",
    "df = pd.read_csv('MCMC/MC_results.txt', sep=\"\\t\")\n",
    "MC_results = torch.tensor(df.values)\n",
    "\n",
    "param_name = [\"kappa\", \"beta\", \"sigma2\"]\n",
    "coverage = [0.85, 0.90, 0.95]\n",
    "\n",
    "for k in range(len(tmp)):\n",
    "    for i in range(3):\n",
    "        values = tmp[k][1][:,i].detach().cpu().numpy().tolist()\n",
    "        weights = tmp[k][0].numpy()\n",
    "        for j in range(3):\n",
    "            error_cvrg = 1-coverage[j]\n",
    "            interval = [error_cvrg/2, 1 - error_cvrg/2]\n",
    "            intvl = weighted_quantile(values, interval, weights)\n",
    "\n",
    "            cvrg = torch.sum((MC_results[:,i] < intvl[1]) & (intvl[0] < MC_results[:,i]))/MC_results.size()[0]\n",
    "            \n",
    "            cvrg_results[k,i,j] = cvrg.detach().cpu().numpy().tolist()\n",
    "            #print(\"coverage: \", coverage[j], param_name[i], \"inf_m: \", cov_m)\n",
    "            #print(\"coverage: \", coverage[j], param_name[i],\"inf_sd: \", cvrg)\n",
    "for i in range(3):\n",
    "    for j in range(3):\n",
    "        #print(\"coverage: \", coverage[j], \"param: \", param_name[i], round(np.mean(cvrg_results[:,i,j]),3), \"sd: \", round(np.std(cvrg_results[:,i,j]),3))\n",
    "        x = cvrg_results[:,i,j]\n",
    "        print(\"coverage: \", coverage[j], \"param: \", param_name[i], round(np.median(x),3), \"mad: \", round(np.median(np.absolute(x - np.median(x))),3))"
   ]
  },
  {
   "cell_type": "markdown",
   "id": "7bb98b24",
   "metadata": {},
   "source": [
    "# Second Case (P2)"
   ]
  },
  {
   "cell_type": "code",
   "execution_count": 6,
   "id": "a2ac181e",
   "metadata": {},
   "outputs": [
    {
     "name": "stdout",
     "output_type": "stream",
     "text": [
      "20\n",
      ".05\n",
      "coverage:  0.85 param:  kappa 0.85 mad:  0.008\n",
      "coverage:  0.9 param:  kappa 0.901 mad:  0.006\n",
      "coverage:  0.95 param:  kappa 0.951 mad:  0.004\n",
      "coverage:  0.85 param:  beta 0.856 mad:  0.02\n",
      "coverage:  0.9 param:  beta 0.906 mad:  0.016\n",
      "coverage:  0.95 param:  beta 0.953 mad:  0.011\n",
      "coverage:  0.85 param:  sigma2 0.838 mad:  0.035\n",
      "coverage:  0.9 param:  sigma2 0.891 mad:  0.028\n",
      "coverage:  0.95 param:  sigma2 0.948 mad:  0.02\n"
     ]
    }
   ],
   "source": [
    "import pandas as pd\n",
    "tmp = torch.load(\"uncertainty_05_1.pt\")\n",
    "#tmp2 = torch.load(\"uncertainty_07_second_10_2.pt\")\n",
    "#tmp = tmp + tmp2\n",
    "\n",
    "print(len(tmp))\n",
    "print(\".05\")\n",
    "\n",
    "\n",
    "cvrg_results = np.zeros( (len(tmp),3,3 ))\n",
    "cvrg_results.shape\n",
    "\n",
    "# Read a CSV file into a DataFrame\n",
    "df = pd.read_csv('MCMC/MC_results_1.txt', sep=\"\\t\")\n",
    "MC_results = torch.tensor(df.values)\n",
    "\n",
    "param_name = [\"kappa\", \"beta\", \"sigma2\"]\n",
    "coverage = [0.85, 0.90, 0.95]\n",
    "\n",
    "for k in range(len(tmp)):\n",
    "    for i in range(3):\n",
    "        values = tmp[k][1][:,i].detach().cpu().numpy().tolist()\n",
    "        weights = tmp[k][0].numpy()\n",
    "        for j in range(3):\n",
    "            error_cvrg = 1-coverage[j]\n",
    "            interval = [error_cvrg/2, 1 - error_cvrg/2]\n",
    "            intvl = weighted_quantile(values, interval, weights)\n",
    "\n",
    "            cvrg = torch.sum((MC_results[:,i] < intvl[1]) & (intvl[0] < MC_results[:,i]))/MC_results.size()[0]\n",
    "            \n",
    "            cvrg_results[k,i,j] = cvrg.detach().cpu().numpy().tolist()\n",
    "            #print(\"coverage: \", coverage[j], param_name[i], \"inf_m: \", cov_m)\n",
    "            #print(\"coverage: \", coverage[j], param_name[i],\"inf_sd: \", cvrg)\n",
    "for i in range(3):\n",
    "    for j in range(3):\n",
    "        #print(\"coverage: \", coverage[j], \"param: \", param_name[i], round(np.mean(cvrg_results[:,i,j]),3), \"sd: \", round(np.std(cvrg_results[:,i,j]),3))\n",
    "        x = cvrg_results[:,i,j]\n",
    "        print(\"coverage: \", coverage[j], \"param: \", param_name[i], round(np.median(x),3), \"mad: \", round(np.median(np.absolute(x - np.median(x))),3))"
   ]
  },
  {
   "cell_type": "code",
   "execution_count": 7,
   "id": "c3ec878d",
   "metadata": {},
   "outputs": [
    {
     "name": "stdout",
     "output_type": "stream",
     "text": [
      "20\n",
      ".07\n",
      "coverage:  0.85 param:  kappa 0.85 mad:  0.008\n",
      "coverage:  0.9 param:  kappa 0.905 mad:  0.006\n",
      "coverage:  0.95 param:  kappa 0.955 mad:  0.003\n",
      "coverage:  0.85 param:  beta 0.849 mad:  0.006\n",
      "coverage:  0.9 param:  beta 0.898 mad:  0.006\n",
      "coverage:  0.95 param:  beta 0.949 mad:  0.003\n",
      "coverage:  0.85 param:  sigma2 0.83 mad:  0.035\n",
      "coverage:  0.9 param:  sigma2 0.887 mad:  0.033\n",
      "coverage:  0.95 param:  sigma2 0.947 mad:  0.022\n"
     ]
    }
   ],
   "source": [
    "import pandas as pd\n",
    "tmp = torch.load(\"uncertainty_07_1.pt\")\n",
    "print(len(tmp))\n",
    "print(\".07\")\n",
    "\n",
    "\n",
    "cvrg_results = np.zeros( (len(tmp),3,3 ))\n",
    "cvrg_results.shape\n",
    "\n",
    "# Read a CSV file into a DataFrame\n",
    "df = pd.read_csv('MCMC/MC_results_1.txt', sep=\"\\t\")\n",
    "MC_results = torch.tensor(df.values)\n",
    "\n",
    "param_name = [\"kappa\", \"beta\", \"sigma2\"]\n",
    "coverage = [0.85, 0.90, 0.95]\n",
    "\n",
    "for k in range(len(tmp)):\n",
    "    for i in range(3):\n",
    "        values = tmp[k][1][:,i].detach().cpu().numpy().tolist()\n",
    "        weights = tmp[k][0].numpy()\n",
    "        for j in range(3):\n",
    "            error_cvrg = 1-coverage[j]\n",
    "            interval = [error_cvrg/2, 1 - error_cvrg/2]\n",
    "            intvl = weighted_quantile(values, interval, weights)\n",
    "\n",
    "            cvrg = torch.sum((MC_results[:,i] < intvl[1]) & (intvl[0] < MC_results[:,i]))/MC_results.size()[0]\n",
    "            \n",
    "            cvrg_results[k,i,j] = cvrg.detach().cpu().numpy().tolist()\n",
    "            #print(\"coverage: \", coverage[j], param_name[i], \"inf_m: \", cov_m)\n",
    "            #print(\"coverage: \", coverage[j], param_name[i],\"inf_sd: \", cvrg)\n",
    "for i in range(3):\n",
    "    for j in range(3):\n",
    "        #print(\"coverage: \", coverage[j], \"param: \", param_name[i], round(np.mean(cvrg_results[:,i,j]),3), \"sd: \", round(np.std(cvrg_results[:,i,j]),3))\n",
    "        x = cvrg_results[:,i,j]\n",
    "        print(\"coverage: \", coverage[j], \"param: \", param_name[i], round(np.median(x),3), \"mad: \", round(np.median(np.absolute(x - np.median(x))),3))"
   ]
  },
  {
   "cell_type": "code",
   "execution_count": 8,
   "id": "4b581b83",
   "metadata": {},
   "outputs": [
    {
     "name": "stdout",
     "output_type": "stream",
     "text": [
      ".10\n",
      "20\n",
      "coverage:  0.85 param:  kappa 0.844 mad:  0.006\n",
      "coverage:  0.9 param:  kappa 0.895 mad:  0.005\n",
      "coverage:  0.95 param:  kappa 0.947 mad:  0.003\n",
      "coverage:  0.85 param:  beta 0.846 mad:  0.006\n",
      "coverage:  0.9 param:  beta 0.898 mad:  0.004\n",
      "coverage:  0.95 param:  beta 0.949 mad:  0.003\n",
      "coverage:  0.85 param:  sigma2 0.832 mad:  0.044\n",
      "coverage:  0.9 param:  sigma2 0.889 mad:  0.038\n",
      "coverage:  0.95 param:  sigma2 0.944 mad:  0.025\n"
     ]
    }
   ],
   "source": [
    "import pandas as pd\n",
    "print(\".10\")\n",
    "tmp = torch.load(\"uncertainty_10_1.pt\")\n",
    "print(len(tmp))\n",
    "\n",
    "\n",
    "\n",
    "cvrg_results = np.zeros( (len(tmp),3,3 ))\n",
    "cvrg_results.shape\n",
    "\n",
    "# Read a CSV file into a DataFrame\n",
    "df = pd.read_csv('MCMC/MC_results_1.txt', sep=\"\\t\")\n",
    "MC_results = torch.tensor(df.values)\n",
    "\n",
    "param_name = [\"kappa\", \"beta\", \"sigma2\"]\n",
    "coverage = [0.85, 0.90, 0.95]\n",
    "\n",
    "for k in range(len(tmp)):\n",
    "    for i in range(3):\n",
    "        values = tmp[k][1][:,i].detach().cpu().numpy().tolist()\n",
    "        weights = tmp[k][0].numpy()\n",
    "        for j in range(3):\n",
    "            error_cvrg = 1-coverage[j]\n",
    "            interval = [error_cvrg/2, 1 - error_cvrg/2]\n",
    "            intvl = weighted_quantile(values, interval, weights)\n",
    "\n",
    "            cvrg = torch.sum((MC_results[:,i] < intvl[1]) & (intvl[0] < MC_results[:,i]))/MC_results.size()[0]\n",
    "            \n",
    "            cvrg_results[k,i,j] = cvrg.detach().cpu().numpy().tolist()\n",
    "            #print(\"coverage: \", coverage[j], param_name[i], \"inf_m: \", cov_m)\n",
    "            #print(\"coverage: \", coverage[j], param_name[i],\"inf_sd: \", cvrg)\n",
    "for i in range(3):\n",
    "    for j in range(3):\n",
    "        #print(\"coverage: \", coverage[j], \"param: \", param_name[i], round(np.mean(cvrg_results[:,i,j]),3), \"sd: \", round(np.std(cvrg_results[:,i,j]),3))\n",
    "        x = cvrg_results[:,i,j]\n",
    "        print(\"coverage: \", coverage[j], \"param: \", param_name[i], round(np.median(x),3), \"mad: \", round(np.median(np.absolute(x - np.median(x))),3))"
   ]
  },
  {
   "cell_type": "code",
   "execution_count": null,
   "id": "c423998b",
   "metadata": {},
   "outputs": [],
   "source": []
  }
 ],
 "metadata": {
  "kernelspec": {
   "display_name": "Python (My sbi_pack Kernel)",
   "language": "python",
   "name": "sbi_pack"
  },
  "language_info": {
   "codemirror_mode": {
    "name": "ipython",
    "version": 3
   },
   "file_extension": ".py",
   "mimetype": "text/x-python",
   "name": "python",
   "nbconvert_exporter": "python",
   "pygments_lexer": "ipython3",
   "version": "3.8.5"
  }
 },
 "nbformat": 4,
 "nbformat_minor": 5
}
