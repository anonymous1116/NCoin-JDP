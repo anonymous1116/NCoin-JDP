{
 "cells": [
  {
   "cell_type": "code",
   "execution_count": 59,
   "id": "456ad10f",
   "metadata": {},
   "outputs": [],
   "source": [
    "import torch\n",
    "import numpy as np\n",
    "import sys\n",
    "import os\n",
    "sys.path.insert(0, os.path.abspath('../'))\n",
    "from DNN_module import Net\n",
    "\n",
    "%run ../NCoinDP_functions.ipynb\n",
    "torch.set_default_device(\"cpu\")"
   ]
  },
  {
   "cell_type": "code",
   "execution_count": null,
   "id": "8af5984c",
   "metadata": {},
   "outputs": [
    {
     "name": "stdout",
     "output_type": "stream",
     "text": [
      "[3, 2, 1.0]\n",
      "train_loss: 0.227071  [   64/53900]\n",
      "train_loss: 0.198267  [ 6464/53900]\n",
      "train_loss: 0.203991  [12864/53900]\n",
      "train_loss: 0.193166  [19264/53900]\n",
      "train_loss: 0.207502  [25664/53900]\n",
      "train_loss: 0.200242  [32064/53900]\n",
      "train_loss: 0.195966  [38464/53900]\n",
      "train_loss: 0.217536  [44864/53900]\n",
      "train_loss: 0.203832  [51264/53900]\n",
      "Epoch 1\n",
      "-------------------------------\n",
      "train_loss 0.203549 val_loss 0.203761\n",
      "Epoch 31\n",
      "-------------------------------\n",
      "train_loss 0.023495 val_loss 0.023543\n"
     ]
    }
   ],
   "source": [
    "# Synthetic data for uncertainty\n",
    "tmp = \"infer_sim_0.pt\" # uniform prior\n",
    "tmp = torch.load(tmp)\n",
    "X = tmp[0]\n",
    "Y = tmp[1]\n",
    "\n",
    "# test data, but wanted to extract just a single (first) row\n",
    "n = 3000\n",
    "scenarios = [\"S1\", \"S2\", \"S3\"]\n",
    "test_save_name = '../test_data/OU_test_n'+ str(n) + '_' + scenarios[2] +'.pt'\n",
    "test = torch.load(test_save_name)\n",
    "torch.set_default_device(\"cpu\")\n",
    "\n",
    "# True parameter\n",
    "print(test[1][1])\n",
    "\n",
    "x0 = OU_summary(test[0][1])[0,:]\n",
    "x0 = torch.reshape(x0, (1,5))\n",
    "\n",
    "uncertainty_list = []\n",
    "r_list = [.05 ,.07, .10]\n",
    "for r in r_list:\n",
    "    for sim in range(20):\n",
    "        X = X.to(\"cpu\")\n",
    "        Y = Y.to(\"cpu\")\n",
    "        x0 = x0.to(\"cpu\")\n",
    "\n",
    "        L = X.size()[0]\n",
    "        L_train = 250000\n",
    "        L_val = 50000\n",
    "        L_cal = L - L_train - L_val\n",
    "\n",
    "        # Divide Data\n",
    "        X_cal = X[(L_train + L_val):].to(\"cpu\")\n",
    "        Y_cal = Y[(L_train + L_val):].to(\"cpu\")\n",
    "\n",
    "        model_save_name = str(sim) +'.pt'\n",
    "        path = F\"infer_nets/net0/{model_save_name}\"\n",
    "        torch.set_default_device(\"cpu\")\n",
    "\n",
    "        # load net\n",
    "        net = Net(D_in = 5, D_out = 3, H = 256, H2 = 256, H3 = 256)\n",
    "        net.load_state_dict(torch.load(path))\n",
    "        net.eval()\n",
    "\n",
    "        tmp = conf_inf_sd(x0, X_cal, Y_cal, net, r) # .05, .07, .10\n",
    "\n",
    "        uncertainty_list.append(tmp)\n",
    "        print(\"====================\", \"sim: \", sim, \"=====================\" )\n",
    "        torch.save(uncertainty_list, \"uncertainty_\" +str(r)+\".pt\") # .05, .07, .10"
   ]
  },
  {
   "cell_type": "code",
   "execution_count": 60,
   "id": "2fb708ca",
   "metadata": {
    "scrolled": false
   },
   "outputs": [
    {
     "name": "stdout",
     "output_type": "stream",
     "text": [
      "3\n",
      ".10\n",
      "coverage:  0.85 param:  kappa 0.833 mad:  0.0\n",
      "coverage:  0.9 param:  kappa 0.883 mad:  0.004\n",
      "coverage:  0.95 param:  kappa 0.937 mad:  0.004\n",
      "coverage:  0.85 param:  beta 0.851 mad:  0.005\n",
      "coverage:  0.9 param:  beta 0.902 mad:  0.002\n",
      "coverage:  0.95 param:  beta 0.947 mad:  0.003\n",
      "coverage:  0.85 param:  sigma2 0.854 mad:  0.004\n",
      "coverage:  0.9 param:  sigma2 0.904 mad:  0.003\n",
      "coverage:  0.95 param:  sigma2 0.954 mad:  0.001\n"
     ]
    }
   ],
   "source": [
    "import pandas as pd\n",
    "tmp = torch.load(\"uncertainty_10.pt\")\n",
    "print(len(tmp))\n",
    "print(\".10\")\n",
    "\n",
    "\n",
    "cvrg_results = np.zeros( (len(tmp),3,3 ))\n",
    "cvrg_results.shape\n",
    "\n",
    "# Read a CSV file into a DataFrame\n",
    "df = pd.read_csv('MCMC/MC_results.txt', sep=\"\\t\")\n",
    "MC_results = torch.tensor(df.values)\n",
    "\n",
    "param_name = [\"kappa\", \"beta\", \"sigma2\"]\n",
    "coverage = [0.85, 0.90, 0.95]\n",
    "\n",
    "for k in range(len(tmp)):\n",
    "    for i in range(3):\n",
    "        values = tmp[k][1][:,i].detach().cpu().numpy().tolist()\n",
    "        weights = tmp[k][0].numpy()\n",
    "        for j in range(3):\n",
    "            error_cvrg = 1-coverage[j]\n",
    "            interval = [error_cvrg/2, 1 - error_cvrg/2]\n",
    "            intvl = weighted_quantile(values, interval, weights)\n",
    "\n",
    "            cvrg = torch.sum((MC_results[:,i] < intvl[1]) & (intvl[0] < MC_results[:,i]))/MC_results.size()[0]\n",
    "            \n",
    "            cvrg_results[k,i,j] = cvrg.detach().cpu().numpy().tolist()\n",
    "            #print(\"coverage: \", coverage[j], param_name[i], \"inf_m: \", cov_m)\n",
    "            #print(\"coverage: \", coverage[j], param_name[i],\"inf_sd: \", cvrg)\n",
    "for i in range(3):\n",
    "    for j in range(3):\n",
    "        #print(\"coverage: \", coverage[j], \"param: \", param_name[i], round(np.mean(cvrg_results[:,i,j]),3), \"sd: \", round(np.std(cvrg_results[:,i,j]),3))\n",
    "        x = cvrg_results[:,i,j]\n",
    "        print(\"coverage: \", coverage[j], \"param: \", param_name[i], round(np.median(x),3), \"mad: \", round(np.median(np.absolute(x - np.median(x))),3))"
   ]
  },
  {
   "cell_type": "code",
   "execution_count": null,
   "id": "b10397b8",
   "metadata": {},
   "outputs": [],
   "source": [
    "math.inf == math.inf"
   ]
  },
  {
   "cell_type": "code",
   "execution_count": null,
   "id": "92a96f1b",
   "metadata": {},
   "outputs": [],
   "source": []
  }
 ],
 "metadata": {
  "kernelspec": {
   "display_name": "Python (My sbi_pack Kernel)",
   "language": "python",
   "name": "sbi_pack"
  },
  "language_info": {
   "codemirror_mode": {
    "name": "ipython",
    "version": 3
   },
   "file_extension": ".py",
   "mimetype": "text/x-python",
   "name": "python",
   "nbconvert_exporter": "python",
   "pygments_lexer": "ipython3",
   "version": "3.8.5"
  }
 },
 "nbformat": 4,
 "nbformat_minor": 5
}
