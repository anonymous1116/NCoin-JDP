{
 "cells": [
  {
   "cell_type": "code",
   "execution_count": 1,
   "id": "3141112e",
   "metadata": {},
   "outputs": [],
   "source": [
    "import matplotlib.pyplot as plt\n",
    "import numpy as np\n",
    "import random\n",
    "import torch\n",
    "import os\n",
    "import sys\n",
    "sys.path.insert(0, os.path.abspath('../'))\n",
    "from DNN_module import Net\n",
    "\n",
    "# CPU\n",
    "torch.set_default_device(\"cpu\")\n",
    "%run ../NCoinDP_functions.ipynb"
   ]
  },
  {
   "cell_type": "markdown",
   "id": "1da2dadf",
   "metadata": {},
   "source": [
    "# Synthetic data for MROUJ processes "
   ]
  },
  {
   "cell_type": "code",
   "execution_count": 14,
   "id": "f9ee9b28",
   "metadata": {},
   "outputs": [],
   "source": [
    "# Number of data points\n",
    "n = 5000\n",
    "\n",
    "# time inteval\n",
    "delta = 1/12\n",
    "\n",
    "# Observation time\n",
    "obtime = np.arange(0,n+1)/n * n * delta"
   ]
  },
  {
   "cell_type": "code",
   "execution_count": 15,
   "id": "9c72c209",
   "metadata": {},
   "outputs": [],
   "source": [
    "L = 7500000\n",
    "\n",
    "kappa_range = [0.1, 3]\n",
    "beta_range = [-1, 1]\n",
    "sigma2_range = [0.1, 1.5]\n",
    "\n",
    "lambda_range = [0.01, 1]\n",
    "mu_range = [0.1,1.5]\n",
    "\n",
    "\n",
    "# Training + validation + Test data generating\n",
    "torch.manual_seed(510)\n",
    "kappa_ran    = torch.rand(L) * (kappa_range[1] -  kappa_range[0]) + kappa_range[0]\n",
    "beta_ran = torch.rand(L) * (beta_range[1] -  beta_range[0]) + beta_range[0]\n",
    "sigma2_ran = torch.rand(L) * (sigma2_range[1] -  sigma2_range[0]) + sigma2_range[0]\n",
    "\n",
    "lambda_ran    = torch.rand(L) * (lambda_range[1] -  lambda_range[0]) + lambda_range[0]\n",
    "mu_ran = torch.rand(L) * (mu_range[1] -  mu_range[0]) + mu_range[0]\n",
    "\n",
    "\n",
    "# Output: L x p matrix\n",
    "output = torch.stack((kappa_ran, beta_ran, sigma2_ran, lambda_ran, mu_ran), dim = 1)"
   ]
  },
  {
   "cell_type": "code",
   "execution_count": null,
   "id": "afe56fea",
   "metadata": {},
   "outputs": [
    {
     "name": "stdout",
     "output_type": "stream",
     "text": [
      "iter_ 0 : completed\n",
      "iter_ 1 : completed\n",
      "iter_ 2 : completed\n"
     ]
    }
   ],
   "source": [
    "torch.manual_seed(511)\n",
    "L_ind = 250000\n",
    "iter_num = int(L / L_ind + .001)\n",
    "path = \"../../depot_hyun/hyun/MROUJ/MROUJ_sim\"\n",
    "\n",
    "for l in range(iter_num):\n",
    "    torch.manual_seed(511+l)\n",
    "    y0 = torch.ones(L_ind) * 0\n",
    "    kappa = kappa_ran[(L_ind * l): (L_ind * (l+1)) ]\n",
    "    beta = beta_ran[(L_ind * l): (L_ind * (l+1)) ]\n",
    "    sigma2 = sigma2_ran[(L_ind * l): (L_ind * (l+1)) ]\n",
    "    lamb = lambda_ran[(L_ind * l): (L_ind * (l+1)) ]\n",
    "    mu = mu_ran[(L_ind * l): (L_ind * (l+1)) ]\n",
    "    \n",
    "    output_ind = torch.stack((kappa, beta, sigma2, lamb, mu), dim = 1)\n",
    "    \n",
    "    yL = MROUJ_simul_sample(obtime, 20, y0, kappa, beta, sigma2 ** (1/2), lamb, mu)\n",
    "    tmp = [MROUJ_summary(yL), output_ind]\n",
    "    path_tmp = path + str(l) +\"_\"+ str(n)+ \".pt\"\n",
    "    torch.save(tmp, path_tmp)\n",
    "    print(\"iter_\", l, \": completed\")"
   ]
  },
  {
   "cell_type": "markdown",
   "id": "39e866f1",
   "metadata": {},
   "source": [
    "# Synthetic data for SQRJ processes"
   ]
  },
  {
   "cell_type": "code",
   "execution_count": null,
   "id": "75680a3b",
   "metadata": {},
   "outputs": [],
   "source": [
    "# Number of data points\n",
    "n = 5000\n",
    "\n",
    "# time inteval\n",
    "delta = 1/12\n",
    "\n",
    "# Observation time\n",
    "obtime = np.arange(0,n+1)/n * n * delta"
   ]
  },
  {
   "cell_type": "code",
   "execution_count": null,
   "id": "6a595780",
   "metadata": {},
   "outputs": [],
   "source": [
    "L = 7500000\n",
    "\n",
    "kappa_range = [0.6, 3.5]\n",
    "beta_range = [0.5, 2]\n",
    "sigma2_range = [0.1, 0.5]\n",
    "\n",
    "lambda_range = [0.01, 1]\n",
    "mu_range = [0.1,1.5]\n",
    "\n",
    "\n",
    "# Training + validation + Test data generating\n",
    "torch.manual_seed(510)\n",
    "kappa_ran    = torch.rand(L) * (kappa_range[1] -  kappa_range[0]) + kappa_range[0]\n",
    "beta_ran = torch.rand(L) * (beta_range[1] -  beta_range[0]) + beta_range[0]\n",
    "sigma2_ran = torch.rand(L) * (sigma2_range[1] -  sigma2_range[0]) + sigma2_range[0]\n",
    "\n",
    "lambda_ran    = torch.rand(L) * (lambda_range[1] -  lambda_range[0]) + lambda_range[0]\n",
    "mu_ran = torch.rand(L) * (mu_range[1] -  mu_range[0]) + mu_range[0]\n",
    "\n",
    "\n",
    "## Output: L x p matrix\n",
    "output = torch.stack((kappa_ran, beta_ran, sigma2_ran, lambda_ran, mu_ran), dim = 1)"
   ]
  },
  {
   "cell_type": "code",
   "execution_count": null,
   "id": "d1ac0649",
   "metadata": {},
   "outputs": [],
   "source": [
    "torch.manual_seed(511)\n",
    "L_ind = 250000\n",
    "iter_num = int(L / L_ind + .001)\n",
    "path = \"../../depot_hyun/hyun/SQRJ/SQRJ_sim\"\n",
    "\n",
    "for l in range(iter_num):\n",
    "    torch.manual_seed(511+l)\n",
    "    y0 = torch.ones(L_ind)\n",
    "    kappa = kappa_ran[(L_ind * l): (L_ind * (l+1)) ]\n",
    "    beta = beta_ran[(L_ind * l): (L_ind * (l+1)) ]\n",
    "    sigma2 = sigma2_ran[(L_ind * l): (L_ind * (l+1)) ]\n",
    "    lamb = lambda_ran[(L_ind * l): (L_ind * (l+1)) ]\n",
    "    mu = mu_ran[(L_ind * l): (L_ind * (l+1)) ]\n",
    "    \n",
    "    output_ind = torch.stack((kappa, beta, sigma2, lamb, mu), dim = 1)\n",
    "    \n",
    "    yL = SQRJ_simul_sample(obtime, 20, y0, kappa, beta, sigma2 ** (1/2), lamb, mu)\n",
    "    tmp = [SQRJ_summary(yL), output_ind]\n",
    "    path_tmp = path + str(l) +\"_\"+ str(n)+ \".pt\"\n",
    "    torch.save(tmp, path_tmp)\n",
    "    print(\"iter_\", l, \": completed\")"
   ]
  },
  {
   "cell_type": "markdown",
   "id": "7335e79b",
   "metadata": {},
   "source": [
    "# Synthetic data for BROUJ"
   ]
  },
  {
   "cell_type": "code",
   "execution_count": 2,
   "id": "e9bb414e",
   "metadata": {},
   "outputs": [],
   "source": [
    "# Number of data points\n",
    "n = 5000\n",
    "\n",
    "# time inteval\n",
    "delta = 1/12\n",
    "\n",
    "# Observation time\n",
    "obtime = np.arange(0,n+1)/n * n * delta"
   ]
  },
  {
   "cell_type": "code",
   "execution_count": 3,
   "id": "509e474a",
   "metadata": {},
   "outputs": [],
   "source": [
    "L = 7500000\n",
    "\n",
    "kappa_11_range = [0.1, 3]\n",
    "kappa_21_range = [0.1, 3]\n",
    "kappa_22_range = [0.1, 3]\n",
    "\n",
    "beta_1_range = [-1, 1]\n",
    "beta_2_range = [-1, 1]\n",
    "\n",
    "sigma2_1_range = [0.1, 0.5]\n",
    "sigma2_2_range = [0.1, 0.5]\n",
    "\n",
    "lambda_1_range = [0.01, 1]\n",
    "lambda_2_range = [0.01, 1]\n",
    "\n",
    "mu_1_range = [0.1,1.5]\n",
    "mu_2_range = [0.1,1.5]\n",
    "\n",
    "\n",
    "# Training + validation + Test data generating\n",
    "torch.manual_seed(510)\n",
    "kappa_11_ran = torch.rand(L) * (kappa_11_range[1] - kappa_11_range[0]) + kappa_11_range[0]\n",
    "kappa_21_ran = torch.rand(L) * (kappa_21_range[1] - kappa_21_range[0]) + kappa_21_range[0]\n",
    "kappa_22_ran = torch.rand(L) * (kappa_22_range[1] - kappa_22_range[0]) + kappa_22_range[0]\n",
    "\n",
    "beta_1_ran = torch.rand(L) * (beta_1_range[1] - beta_1_range[0]) + beta_1_range[0]\n",
    "beta_2_ran = torch.rand(L) * (beta_2_range[1] - beta_2_range[0]) + beta_2_range[0]\n",
    "\n",
    "sigma2_1_ran = torch.rand(L) * (sigma2_1_range[1] - sigma2_1_range[0]) + sigma2_1_range[0]\n",
    "sigma2_2_ran = torch.rand(L) * (sigma2_2_range[1] - sigma2_2_range[0]) + sigma2_2_range[0]\n",
    "\n",
    "lambda_1_ran = torch.rand(L) * (lambda_1_range[1] - lambda_1_range[0]) + lambda_1_range[0]\n",
    "lambda_2_ran = torch.rand(L) * (lambda_2_range[1] - lambda_2_range[0]) + lambda_2_range[0]\n",
    "\n",
    "mu_1_ran = torch.rand(L) * (mu_1_range[1] - mu_1_range[0]) + mu_1_range[0]\n",
    "mu_2_ran = torch.rand(L) * (mu_2_range[1] - mu_2_range[0]) + mu_2_range[0]\n",
    "\n",
    "## Output: L x p matrix\n",
    "output = torch.stack((kappa_11_ran, kappa_21_ran, kappa_22_ran, beta_1_ran, beta_2_ran, \n",
    "                      sigma2_1_ran, sigma2_2_ran, lambda_1_ran, lambda_2_ran, mu_1_ran, mu_2_ran), dim = 1)"
   ]
  },
  {
   "cell_type": "code",
   "execution_count": null,
   "id": "0292f375",
   "metadata": {},
   "outputs": [
    {
     "name": "stdout",
     "output_type": "stream",
     "text": [
      "iter_ 0 : completed\n",
      "iter_ 1 : completed\n",
      "iter_ 2 : completed\n",
      "iter_ 3 : completed\n",
      "iter_ 4 : completed\n",
      "iter_ 5 : completed\n",
      "iter_ 6 : completed\n",
      "iter_ 7 : completed\n",
      "iter_ 8 : completed\n"
     ]
    }
   ],
   "source": [
    "torch.manual_seed(511)\n",
    "L_ind = 250000\n",
    "iter_num = int(L / L_ind + .001)\n",
    "path = \"../../depot_hyun/hyun/BOUJ/BOUJ_sim\"\n",
    "\n",
    "for l in range(iter_num):\n",
    "    torch.manual_seed(511+l)\n",
    "    y01 = torch.ones(L_ind) * 0\n",
    "    y02 = torch.ones(L_ind) * 0\n",
    "    \n",
    "    kappa_11 = kappa_11_ran[(L_ind * l): (L_ind * (l+1)) ]\n",
    "    kappa_21 = kappa_21_ran[(L_ind * l): (L_ind * (l+1)) ]\n",
    "    kappa_22 = kappa_22_ran[(L_ind * l): (L_ind * (l+1)) ]\n",
    "    \n",
    "    beta_1 = beta_1_ran[(L_ind * l): (L_ind * (l+1)) ]\n",
    "    beta_2 = beta_2_ran[(L_ind * l): (L_ind * (l+1)) ]\n",
    "    \n",
    "    sigma2_1 = sigma2_1_ran[(L_ind * l): (L_ind * (l+1)) ]\n",
    "    sigma2_2 = sigma2_2_ran[(L_ind * l): (L_ind * (l+1)) ]\n",
    "    \n",
    "    lamb_1 = lambda_1_ran[(L_ind * l): (L_ind * (l+1)) ]\n",
    "    lamb_2 = lambda_2_ran[(L_ind * l): (L_ind * (l+1)) ]\n",
    "    \n",
    "    mu_1 = mu_1_ran[(L_ind * l): (L_ind * (l+1)) ]\n",
    "    mu_2 = mu_2_ran[(L_ind * l): (L_ind * (l+1)) ]\n",
    "    \n",
    "    output_ind = torch.stack((kappa_11, kappa_21, kappa_22, beta_1, beta_2, \n",
    "                              sigma2_1, sigma2_2, lamb_1, lamb_2, mu_1, mu_2), dim = 1)\n",
    "    \n",
    "    yL = BOUJ_simul_sample(obtime, 20, y01, y02, kappa_11, kappa_21, kappa_22, \n",
    "                       beta_1, beta_2, sigma2_1 ** (1/2), sigma2_2 ** (1/2), \n",
    "                       lamb_1, lamb_2, mu_1, mu_2)\n",
    "    tmp = [BOUJ_summary(yL), output_ind]\n",
    "    path_tmp = path + str(l) +\"_\"+ str(n)+ \".pt\"\n",
    "    torch.save(tmp, path_tmp)\n",
    "    print(\"iter_\", l, \": completed\")"
   ]
  },
  {
   "cell_type": "markdown",
   "id": "cb19ab65",
   "metadata": {},
   "source": [
    "# Synthetic data for PBJD"
   ]
  },
  {
   "cell_type": "code",
   "execution_count": 9,
   "id": "69d247e9",
   "metadata": {},
   "outputs": [],
   "source": [
    "L = 7500000\n",
    "\n",
    "beta_range = [-0.5, 0.5]\n",
    "sigma2_range = [0.1, 1]\n",
    "\n",
    "lamb_p_range = [0.1, 1]\n",
    "lamb_n_range = [0.1, 1]\n",
    "\n",
    "eta_p_range = [0.1, 1]\n",
    "eta_n_range = [0.1, 1]\n",
    "\n",
    "# Training + validation + Test data generating\n",
    "torch.manual_seed(510)\n",
    "beta_ran    = torch.rand(L) * (beta_range[1] -  beta_range[0]) + beta_range[0]\n",
    "sigma2_ran = torch.rand(L) * (sigma2_range[1] -  sigma2_range[0]) + sigma2_range[0]\n",
    "\n",
    "lamb_p_ran    = torch.rand(L) * (lamb_p_range[1] -  lamb_p_range[0]) + lamb_p_range[0]\n",
    "lamb_n_ran    = torch.rand(L) * (lamb_n_range[1] -  lamb_n_range[0]) + lamb_n_range[0]\n",
    "\n",
    "eta_p_ran = torch.rand(L) * (eta_p_range[1] -  eta_p_range[0]) + eta_p_range[0]\n",
    "eta_n_ran = torch.rand(L) * (eta_n_range[1] -  eta_n_range[0]) + eta_n_range[0]\n",
    "\n",
    "# Output: L x p matrix\n",
    "output = torch.stack((beta_ran, sigma2_ran, lamb_p_ran, lamb_n_ran, eta_p_ran, eta_n_ran), dim = 1)"
   ]
  },
  {
   "cell_type": "code",
   "execution_count": 10,
   "id": "392ddd40",
   "metadata": {},
   "outputs": [],
   "source": [
    "# Number of data points\n",
    "n = 5000\n",
    "\n",
    "# time inteval\n",
    "delta = 1/12\n",
    "\n",
    "# Observation time\n",
    "obtime = np.arange(0,n+1)/n * n * delta"
   ]
  },
  {
   "cell_type": "code",
   "execution_count": null,
   "id": "c04b5ab5",
   "metadata": {},
   "outputs": [
    {
     "name": "stdout",
     "output_type": "stream",
     "text": [
      "iter_ 0 : completed\n",
      "iter_ 1 : completed\n",
      "iter_ 2 : completed\n"
     ]
    }
   ],
   "source": [
    "torch.manual_seed(511)\n",
    "L_ind = 250000\n",
    "iter_num = int(L / L_ind + .001)\n",
    "path = \"../../depot_hyun/hyun/PBJD/PBJD_sim\"\n",
    "\n",
    "for l in range(iter_num):\n",
    "    torch.manual_seed(511+l)\n",
    "    y0 = torch.ones(L_ind) * 0\n",
    "    beta = beta_ran[(L_ind * l): (L_ind * (l+1)) ]\n",
    "    sigma2 = sigma2_ran[(L_ind * l): (L_ind * (l+1)) ]\n",
    "    lamb_p = lamb_p_ran[(L_ind * l): (L_ind * (l+1)) ]\n",
    "    lamb_n = lamb_n_ran[(L_ind * l): (L_ind * (l+1)) ]\n",
    "    eta_p = eta_p_ran[(L_ind * l): (L_ind * (l+1)) ]\n",
    "    eta_n = eta_n_ran[(L_ind * l): (L_ind * (l+1)) ]\n",
    "    \n",
    "    output_ind = torch.stack((beta, sigma2, lamb_p, lamb_n, eta_p, eta_n), dim = 1)\n",
    "    \n",
    "    yL = PBJD_simul_sample(obtime, y0, beta, sigma2 ** (1/2), lamb_p, lamb_n, eta_p, eta_n)\n",
    "    \n",
    "    tmp = [PBJD_summary(yL, delta), output_ind]\n",
    "    path_tmp = path + str(l) + \"_\" +str(n)+ \".pt\"\n",
    "    torch.save(tmp, path_tmp)\n",
    "    print(\"iter_\", l, \": completed\")"
   ]
  }
 ],
 "metadata": {
  "kernelspec": {
   "display_name": "Python (My sbi_pack Kernel)",
   "language": "python",
   "name": "sbi_pack"
  },
  "language_info": {
   "codemirror_mode": {
    "name": "ipython",
    "version": 3
   },
   "file_extension": ".py",
   "mimetype": "text/x-python",
   "name": "python",
   "nbconvert_exporter": "python",
   "pygments_lexer": "ipython3",
   "version": "3.8.5"
  }
 },
 "nbformat": 4,
 "nbformat_minor": 5
}
