{
 "cells": [
  {
   "cell_type": "code",
   "execution_count": 1,
   "id": "3141112e",
   "metadata": {},
   "outputs": [],
   "source": [
    "import matplotlib.pyplot as plt\n",
    "import numpy as np\n",
    "import random\n",
    "import torch\n",
    "import os\n",
    "import sys\n",
    "sys.path.insert(0, os.path.abspath('../'))\n",
    "from DNN_module import Net\n",
    "\n",
    "# CPU\n",
    "torch.set_default_device(\"cpu\")\n",
    "%run ../NCoinDP_functions.ipynb"
   ]
  },
  {
   "cell_type": "markdown",
   "id": "c96167ed",
   "metadata": {},
   "source": [
    "# Synthetic data for PBJD for stock data analysis"
   ]
  },
  {
   "cell_type": "code",
   "execution_count": 6,
   "id": "437e2597",
   "metadata": {},
   "outputs": [],
   "source": [
    "L = 7500000\n",
    "\n",
    "beta_range = [-0.01, 0.02]\n",
    "sigma_param = [100]\n",
    "\n",
    "lamb_p_param = [1]\n",
    "lamb_n_param = [1]\n",
    "\n",
    "eta_p_param = [100]\n",
    "eta_n_param = [100]\n",
    "\n",
    "# Training + validation + Test data generating\n",
    "torch.manual_seed(510)\n",
    "\n",
    "beta_ran  = torch.rand(L) * (beta_range[1] - beta_range[0]) + beta_range[0]\n",
    "sigma_ran = Exponential(sigma_param[0] * torch.ones(L)).sample()\n",
    "\n",
    "lamb_p_ran = Exponential(lamb_p_param[0] * torch.ones(L)).sample()\n",
    "lamb_n_ran = Exponential(lamb_n_param[0] * torch.ones(L)).sample()\n",
    "\n",
    "eta_p_ran = Exponential(eta_p_param[0] * torch.ones(L)).sample()\n",
    "eta_n_ran = Exponential(eta_n_param[0] * torch.ones(L)).sample()\n",
    "\n",
    "# Output: L x p matrix\n",
    "output = torch.stack((beta_ran, sigma_ran, lamb_p_ran, lamb_n_ran, eta_p_ran, eta_n_ran), dim = 1)"
   ]
  },
  {
   "cell_type": "code",
   "execution_count": 7,
   "id": "dc3c4c02",
   "metadata": {},
   "outputs": [],
   "source": [
    "# Number of data points\n",
    "n = 2014\n",
    "\n",
    "# time inteval\n",
    "delta = 1\n",
    "\n",
    "# Observation time\n",
    "obtime = np.arange(0,n+1) * delta"
   ]
  },
  {
   "cell_type": "code",
   "execution_count": 8,
   "id": "7d6f57fc",
   "metadata": {},
   "outputs": [
    {
     "name": "stdout",
     "output_type": "stream",
     "text": [
      "iter_ 0 : completed\n",
      "iter_ 1 : completed\n",
      "iter_ 2 : completed\n",
      "iter_ 3 : completed\n",
      "iter_ 4 : completed\n",
      "iter_ 5 : completed\n",
      "iter_ 6 : completed\n",
      "iter_ 7 : completed\n",
      "iter_ 8 : completed\n",
      "iter_ 9 : completed\n",
      "iter_ 10 : completed\n",
      "iter_ 11 : completed\n",
      "iter_ 12 : completed\n",
      "iter_ 13 : completed\n",
      "iter_ 14 : completed\n",
      "iter_ 15 : completed\n",
      "iter_ 16 : completed\n",
      "iter_ 17 : completed\n",
      "iter_ 18 : completed\n",
      "iter_ 19 : completed\n",
      "iter_ 20 : completed\n",
      "iter_ 21 : completed\n",
      "iter_ 22 : completed\n",
      "iter_ 23 : completed\n",
      "iter_ 24 : completed\n",
      "iter_ 25 : completed\n",
      "iter_ 26 : completed\n",
      "iter_ 27 : completed\n",
      "iter_ 28 : completed\n",
      "iter_ 29 : completed\n"
     ]
    }
   ],
   "source": [
    "torch.manual_seed(511)\n",
    "L_ind = 250000\n",
    "iter_num = int(L / L_ind + .001)\n",
    "y0 = 0\n",
    "path = \"../../depot_hyun/hyun/StockPriceRDA/RDA_sim\"\n",
    "delta = 1\n",
    "\n",
    "for l in range(30):\n",
    "    torch.manual_seed(511+l)\n",
    "    beta = beta_ran[(L_ind * l): (L_ind * (l+1)) ]\n",
    "    sigma = sigma_ran[(L_ind * l): (L_ind * (l+1)) ]\n",
    "    lamb_p = lamb_p_ran[(L_ind * l): (L_ind * (l+1)) ]\n",
    "    lamb_n = lamb_n_ran[(L_ind * l): (L_ind * (l+1)) ]\n",
    "    eta_p = eta_p_ran[(L_ind * l): (L_ind * (l+1)) ]\n",
    "    eta_n = eta_n_ran[(L_ind * l): (L_ind * (l+1)) ]\n",
    "    \n",
    "    output_ind = torch.stack((beta, sigma, lamb_p, lamb_n, eta_p, eta_n), dim = 1)\n",
    "    \n",
    "    y0_tmp = torch.ones(L_ind) * y0\n",
    "    yL = PBJD_simul_sample(obtime, y0_tmp, beta, sigma, lamb_p, \n",
    "                       lamb_n, 1/eta_p, 1/eta_n)\n",
    "    \n",
    "    tmp = [PBJD_RDA_summary(yL, delta), output_ind]\n",
    "    path_tmp = path + str(l) + \".pt\"\n",
    "    torch.save(tmp, path_tmp)\n",
    "    print(\"iter_\", l, \": completed\")"
   ]
  },
  {
   "cell_type": "code",
   "execution_count": null,
   "id": "2bd5815c",
   "metadata": {},
   "outputs": [],
   "source": []
  }
 ],
 "metadata": {
  "kernelspec": {
   "display_name": "Python (My sbi_pack Kernel)",
   "language": "python",
   "name": "sbi_pack"
  },
  "language_info": {
   "codemirror_mode": {
    "name": "ipython",
    "version": 3
   },
   "file_extension": ".py",
   "mimetype": "text/x-python",
   "name": "python",
   "nbconvert_exporter": "python",
   "pygments_lexer": "ipython3",
   "version": "3.8.5"
  }
 },
 "nbformat": 4,
 "nbformat_minor": 5
}
