{
 "cells": [
  {
   "cell_type": "code",
   "execution_count": 1,
   "id": "456ad10f",
   "metadata": {},
   "outputs": [],
   "source": [
    "import matplotlib.pyplot as plt\n",
    "import numpy as np\n",
    "import random\n",
    "import torch\n",
    "import os\n",
    "import sys\n",
    "sys.path.insert(0, os.path.abspath('../'))\n",
    "from DNN_module import Net\n",
    "\n",
    "# Number of data points\n",
    "n = 3000\n",
    "\n",
    "# time inteval\n",
    "delta = 1/52\n",
    "\n",
    "# Observation time\n",
    "obtime = np.arange(0,n+1)/n * n * delta\n",
    "\n",
    "%run ../NCoinDP_functions.ipynb"
   ]
  },
  {
   "cell_type": "code",
   "execution_count": 2,
   "id": "903f724f",
   "metadata": {},
   "outputs": [
    {
     "name": "stdout",
     "output_type": "stream",
     "text": [
      "2.1.2+cu121\n",
      "True\n",
      "NVIDIA A100-PCIE-40GB\n"
     ]
    }
   ],
   "source": [
    "print(torch.__version__)\n",
    "print(torch.cuda.is_available())\n",
    "print(torch.cuda.get_device_name(0))\n",
    "if torch.cuda.is_available(): \n",
    " dev = \"cuda:0\" \n",
    "else: \n",
    " dev = \"cpu\"\n",
    "device = torch.device(dev) "
   ]
  },
  {
   "cell_type": "code",
   "execution_count": null,
   "id": "634a8707",
   "metadata": {},
   "outputs": [],
   "source": [
    "# Number of synthetic data\n",
    "L = 2500000\n",
    "\n",
    "# Range of parameters\n",
    "mu_range = [1, 5]\n",
    "theta_range = [1, 2.5]\n",
    "sigma2_range = [0.5, 2]\n",
    "\n",
    "# Training + validation + Test data generating\n",
    "torch.manual_seed(515)\n",
    "mu_ran     = torch.rand(L) * (mu_range[1] -  mu_range[0]) + mu_range[0]\n",
    "theta_ran  = torch.rand(L) * (theta_range[1] -  theta_range[0]) + theta_range[0]\n",
    "sigma2_ran = torch.rand(L) * (sigma2_range[1] -  sigma2_range[0]) + sigma2_range[0]\n",
    "\n",
    "# Output: L x 3 matrix\n",
    "output = torch.stack((mu_ran, theta_ran, sigma2_ran), dim = 1)\n",
    "\n",
    "# J Synthetic data generating\n",
    "torch.manual_seed(515)\n",
    "y0_tmp = torch.normal(theta_ran, torch.sqrt(sigma2_ran/(2*mu_ran)))\n",
    "yL = OU_simul_sample(L, obtime, y0_tmp, mu_ran, theta_ran, sigma2_ran ** (1/2))\n",
    "\n",
    "# Summary Statistics\n",
    "X = OU_summary(yL)\n",
    "tmp = \"infer_sim_0.pt\"\n",
    "torch.save([X, output], tmp)"
   ]
  },
  {
   "cell_type": "code",
   "execution_count": 3,
   "id": "e4914467",
   "metadata": {},
   "outputs": [],
   "source": [
    "import torch\n",
    "import math\n",
    "from torch.distributions.gamma import Gamma\n",
    "torch.set_default_device(\"cpu\")\n",
    "# Number of synthetic data\n",
    "L = 2500000\n",
    "#L = 500000\n",
    "\n",
    "# hyper-parameters \n",
    "mu_par = [2, 2 ** (1/2)]\n",
    "theta_par = [1, 2 ** (1/2)]\n",
    "sigma2_par = [1, 1]\n",
    "\n",
    "# Training + validation + Test data generating\n",
    "torch.manual_seed(510)\n",
    "mu_ran = torch.empty(L)\n",
    "theta_ran = torch.empty(L)\n",
    "sigma2_ran = torch.empty(L)\n",
    "\n",
    "mu_ran = torch.nn.init.trunc_normal_(mu_ran, mean = mu_par[0], std = mu_par[1], a = 0, b= math.inf)\n",
    "theta_ran = torch.nn.init.trunc_normal_(theta_ran, mean = theta_par[0], std = theta_par[1], a = 0, b= math.inf)\n",
    "sigma2_ran = Gamma(torch.ones(L)*sigma2_par[0], torch.ones(L)*sigma2_par[1]).sample()\n",
    "\n",
    "# Output: L x 3 matrix\n",
    "output = torch.stack((mu_ran, theta_ran, sigma2_ran), dim = 1)\n",
    "\n",
    "# J Synthetic data generating\n",
    "torch.manual_seed(511)\n",
    "y0_tmp = torch.normal(theta_ran, torch.sqrt(sigma2_ran/(2*mu_ran)))\n",
    "yL = OU_simul_sample(L, obtime, y0_tmp, mu_ran, theta_ran, sigma2_ran ** (1/2))\n",
    "\n",
    "# Summary Statistics\n",
    "X = OU_summary(yL)\n",
    "tmp = \"infer_sim_1.pt\"\n",
    "\n",
    "torch.save([X, output], tmp)"
   ]
  },
  {
   "cell_type": "code",
   "execution_count": 4,
   "id": "111f1fbf",
   "metadata": {},
   "outputs": [],
   "source": []
  },
  {
   "cell_type": "code",
   "execution_count": null,
   "id": "81088269",
   "metadata": {},
   "outputs": [],
   "source": []
  }
 ],
 "metadata": {
  "kernelspec": {
   "display_name": "Python (My sbi_pack Kernel)",
   "language": "python",
   "name": "sbi_pack"
  },
  "language_info": {
   "codemirror_mode": {
    "name": "ipython",
    "version": 3
   },
   "file_extension": ".py",
   "mimetype": "text/x-python",
   "name": "python",
   "nbconvert_exporter": "python",
   "pygments_lexer": "ipython3",
   "version": "3.8.5"
  }
 },
 "nbformat": 4,
 "nbformat_minor": 5
}
